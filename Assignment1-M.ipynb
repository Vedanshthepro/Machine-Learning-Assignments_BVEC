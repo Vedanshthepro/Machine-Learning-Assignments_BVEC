{
 "cells": [
  {
   "cell_type": "code",
   "execution_count": 1,
   "id": "6bf03756-0c5e-4657-a04d-3ca64d3fd600",
   "metadata": {},
   "outputs": [
    {
     "name": "stdout",
     "output_type": "stream",
     "text": [
      "Accuracy: 0.97\n",
      "Classification Report:\n",
      "              precision    recall  f1-score   support\n",
      "\n",
      "           0       1.00      1.00      1.00        33\n",
      "           1       0.97      1.00      0.98        28\n",
      "           2       0.97      1.00      0.99        33\n",
      "           3       0.97      0.97      0.97        34\n",
      "           4       1.00      0.98      0.99        46\n",
      "           5       0.92      0.94      0.93        47\n",
      "           6       0.97      0.97      0.97        35\n",
      "           7       1.00      0.97      0.99        34\n",
      "           8       0.97      0.97      0.97        30\n",
      "           9       0.97      0.95      0.96        40\n",
      "\n",
      "    accuracy                           0.97       360\n",
      "   macro avg       0.97      0.97      0.97       360\n",
      "weighted avg       0.97      0.97      0.97       360\n",
      "\n"
     ]
    },
    {
     "data": {
      "image/png": "[encoded data removed]",
      "text/plain": [
       "<Figure size 1000x400 with 5 Axes>"
      ]
     },
     "metadata": {},
     "output_type": "display_data"
    }
   ],
   "source": [
    "# Import necessary libraries\n",
    "from sklearn.datasets import load_digits  # Loads the digits dataset\n",
    "from sklearn.model_selection import train_test_split  # Splits data into training and testing sets\n",
    "from sklearn.linear_model import LogisticRegression  # Machine learning model for classification\n",
    "from sklearn.metrics import accuracy_score, classification_report  # Evaluation metrics\n",
    "import matplotlib.pyplot as plt  # For visualizing digits\n",
    "\n",
    "# Load the digits dataset\n",
    "digits = load_digits()\n",
    "\n",
    "# Features (pixel values) and labels (actual digit)\n",
    "X = digits.data  # Each image is represented as a flattened array of 64 pixel values\n",
    "y = digits.target  # Labels are digits from 0 to 9\n",
    "\n",
    "# Split the dataset into training and testing sets (80% train, 20% test)\n",
    "X_train, X_test, y_train, y_test = train_test_split(X, y, test_size=0.2, random_state=42)\n",
    "\n",
    "# Initialize the logistic regression model\n",
    "model = LogisticRegression(max_iter=10000)  # max_iter increased to ensure convergence\n",
    "\n",
    "# Train the model on the training data\n",
    "model.fit(X_train, y_train)\n",
    "\n",
    "# Predict the labels for the test data\n",
    "y_pred = model.predict(X_test)\n",
    "\n",
    "# Evaluate the model's accuracy\n",
    "accuracy = accuracy_score(y_test, y_pred)\n",
    "print(f\"Accuracy: {accuracy:.2f}\")  # Print accuracy as a percentage\n",
    "\n",
    "# Print detailed classification metrics\n",
    "print(\"Classification Report:\")\n",
    "print(classification_report(y_test, y_pred))  # Shows precision, recall, f1-score for each digit\n",
    "\n",
    "# Visualize a few test images with their predicted labels\n",
    "fig, axes = plt.subplots(1, 5, figsize=(10, 4))  # Create a row of 5 subplots\n",
    "for i, ax in enumerate(axes):\n",
    "    ax.imshow(X_test[i].reshape(8, 8), cmap='gray')  # Reshape flat array back to 8x8 image\n",
    "    ax.set_title(f\"Pred: {y_pred[i]}\")  # Show predicted label\n",
    "    ax.axis('off' )  # Hide axis ticks\n",
    "\n",
    "plt.tight_layout()\n",
    "plt.show()"
   ]
  },
  {
   "cell_type": "code",
   "execution_count": null,
   "id": "d0bf3332-97a5-48e9-b207-f902bf9c3a90",
   "metadata": {},
   "outputs": [],
   "source": []
  }
 ],
 "metadata": {
  "kernelspec": {
   "display_name": "Python 3 (ipykernel)",
   "language": "python",
   "name": "python3"
  },
  "language_info": {
   "codemirror_mode": {
    "name": "ipython",
    "version": 3
   },
   "file_extension": ".py",
   "mimetype": "text/x-python",
   "name": "python",
   "nbconvert_exporter": "python",
   "pygments_lexer": "ipython3",
   "version": "3.11.7"
  }
 },
 "nbformat": 4,
 "nbformat_minor": 5
}
